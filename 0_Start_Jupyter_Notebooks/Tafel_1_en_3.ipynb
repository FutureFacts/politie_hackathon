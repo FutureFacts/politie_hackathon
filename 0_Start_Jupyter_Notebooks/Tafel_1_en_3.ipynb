{
 "cells": [
  {
   "cell_type": "markdown",
   "id": "e38c94bb-2b79-4a76-8939-234173c236bc",
   "metadata": {},
   "source": [
    "# Start\n",
    "\n",
    "Beste deelnemer van tafel 1 of 3,\n",
    "\n",
    "Dit Jupyter notebook heeft alvast wat data klaarstaan om te gebruiken. Dit notebook is vooral om te helpen met opstarten. Je hoeft deze uiteraard niet te gebruiken\n",
    "\n",
    "Let wel op de manier van de output die aan tafel 4 dient te worden doorgegeven. Uiteraard zijn jullie vrij om een andere manier van output af te spreken met de andere tafel (1 of 3) en tafel 4. "
   ]
  },
  {
   "cell_type": "code",
   "execution_count": 2,
   "id": "27469be1-dade-484d-b9dd-ad74b3c4452e",
   "metadata": {},
   "outputs": [],
   "source": [
    "import pandas as pd\n",
    "import os"
   ]
  },
  {
   "cell_type": "markdown",
   "id": "d594bf6e-3561-4e7d-8ae9-3540e9f6b146",
   "metadata": {},
   "source": [
    "# Input\n",
    "\n",
    "Het blok hieronder leest de RIVM_dataset inclusief de stofnaam in en zet het in een pandas dataframe. "
   ]
  },
  {
   "cell_type": "code",
   "execution_count": 11,
   "id": "ad9fb24f-21eb-4b04-bd49-573ef2d121ec",
   "metadata": {},
   "outputs": [],
   "source": [
    "parent = os.path.dirname(os.getcwd())\n",
    "\n",
    "path = (parent + '/RIVM_dataset/AllData_IOD_Stofnaam1.csv')\n",
    "inputtafel1en3 = pd.read_csv(path, sep=',')"
   ]
  },
  {
   "cell_type": "markdown",
   "id": "70f3dde1-38c9-4986-8adc-37d0afefeb42",
   "metadata": {},
   "source": [
    "Hieronder is te zien hoe de data er uit ziet. De volgende kolommen zitten er in: \n",
    "- Kolom 1: een lang nummer unieke regelcode \n",
    "- Sample ID: de naam die de data-eigenaar aan het monster geeft  \n",
    "- Aquocode: de naam van de parameter die het Infor Huis Water gebruikt\n",
    "- CAS: Chemical Abstracts Services – de naam van de parameter als CAS-nummer \n",
    "- MeasuredValue: gemeten waarde van de parameter \n",
    "- Unit: eenheid van de gemeten waarde \n",
    "- Locationcode: unieke naam die de data-eigenaar aan de locatie van het monster gegeven heeft \n",
    "- AdditionalProperties: beschrijving van de werkwijzen van monsterbehandeling, conform bepaalde coderingen \n",
    "- LimitIndicator: duidt aan of een waarde kliner is dan de detectielimiet, enz, \n",
    "- X=locatiecodering \n",
    "- Y=locatiecodering \n",
    "- Datasource: data verkregen van…. \n",
    "- SampleDate: Datum van monstername \n",
    "- Stofnaam: Naam van de stof gebaseerd op het CAS nummer "
   ]
  },
  {
   "cell_type": "code",
   "execution_count": 12,
   "id": "06f736c3-9a58-40c0-87ca-0a07253e1b6e",
   "metadata": {},
   "outputs": [
    {
     "data": {
      "text/html": [
       "<div>\n",
       "<style scoped>\n",
       "    .dataframe tbody tr th:only-of-type {\n",
       "        vertical-align: middle;\n",
       "    }\n",
       "\n",
       "    .dataframe tbody tr th {\n",
       "        vertical-align: top;\n",
       "    }\n",
       "\n",
       "    .dataframe thead th {\n",
       "        text-align: right;\n",
       "    }\n",
       "</style>\n",
       "<table border=\"1\" class=\"dataframe\">\n",
       "  <thead>\n",
       "    <tr style=\"text-align: right;\">\n",
       "      <th></th>\n",
       "      <th>Unnamed: 0</th>\n",
       "      <th>SampleID</th>\n",
       "      <th>AquoCode</th>\n",
       "      <th>CAS</th>\n",
       "      <th>MeasuredValue</th>\n",
       "      <th>Unit</th>\n",
       "      <th>Locationcode</th>\n",
       "      <th>AdditionalProperties</th>\n",
       "      <th>LimitIndicator</th>\n",
       "      <th>X</th>\n",
       "      <th>Y</th>\n",
       "      <th>DataSource</th>\n",
       "      <th>SampleDate</th>\n",
       "      <th>Stofnaam</th>\n",
       "    </tr>\n",
       "  </thead>\n",
       "  <tbody>\n",
       "    <tr>\n",
       "      <th>0</th>\n",
       "      <td>0</td>\n",
       "      <td>AoDE_AA_680:1980-07-16</td>\n",
       "      <td>NH3</td>\n",
       "      <td>7664-41-7</td>\n",
       "      <td>9.714286</td>\n",
       "      <td>ug/l</td>\n",
       "      <td>AoDE_AA_680</td>\n",
       "      <td>N</td>\n",
       "      <td>-</td>\n",
       "      <td>160181.613</td>\n",
       "      <td>406573.048</td>\n",
       "      <td>Aa en Maas</td>\n",
       "      <td>1980-07-16</td>\n",
       "      <td>Ammonia, anhydrous</td>\n",
       "    </tr>\n",
       "    <tr>\n",
       "      <th>1</th>\n",
       "      <td>1</td>\n",
       "      <td>AoDE_AA_570:1980-07-16</td>\n",
       "      <td>NH3</td>\n",
       "      <td>7664-41-7</td>\n",
       "      <td>9.714286</td>\n",
       "      <td>ug/l</td>\n",
       "      <td>AoDE_AA_570</td>\n",
       "      <td>N</td>\n",
       "      <td>-</td>\n",
       "      <td>165695.515</td>\n",
       "      <td>403023.958</td>\n",
       "      <td>Aa en Maas</td>\n",
       "      <td>1980-07-16</td>\n",
       "      <td>Ammonia, anhydrous</td>\n",
       "    </tr>\n",
       "    <tr>\n",
       "      <th>2</th>\n",
       "      <td>2</td>\n",
       "      <td>AoBIEZLO700:1980-07-16</td>\n",
       "      <td>NH3</td>\n",
       "      <td>7664-41-7</td>\n",
       "      <td>10.928571</td>\n",
       "      <td>ug/l</td>\n",
       "      <td>AoBIEZLO700</td>\n",
       "      <td>N</td>\n",
       "      <td>-</td>\n",
       "      <td>163020.000</td>\n",
       "      <td>402945.000</td>\n",
       "      <td>Aa en Maas</td>\n",
       "      <td>1980-07-16</td>\n",
       "      <td>Ammonia, anhydrous</td>\n",
       "    </tr>\n",
       "    <tr>\n",
       "      <th>3</th>\n",
       "      <td>3</td>\n",
       "      <td>AoZUIDWV650:1980-07-16</td>\n",
       "      <td>NH3</td>\n",
       "      <td>7664-41-7</td>\n",
       "      <td>18.214286</td>\n",
       "      <td>ug/l</td>\n",
       "      <td>AoZUIDWV650</td>\n",
       "      <td>N</td>\n",
       "      <td>-</td>\n",
       "      <td>164962.593</td>\n",
       "      <td>402277.208</td>\n",
       "      <td>Aa en Maas</td>\n",
       "      <td>1980-07-16</td>\n",
       "      <td>Ammonia, anhydrous</td>\n",
       "    </tr>\n",
       "    <tr>\n",
       "      <th>4</th>\n",
       "      <td>4</td>\n",
       "      <td>AoGOORLO900:1980-07-16</td>\n",
       "      <td>NH3</td>\n",
       "      <td>7664-41-7</td>\n",
       "      <td>15.785714</td>\n",
       "      <td>ug/l</td>\n",
       "      <td>AoGOORLO900</td>\n",
       "      <td>N</td>\n",
       "      <td>-</td>\n",
       "      <td>168096.796</td>\n",
       "      <td>399616.086</td>\n",
       "      <td>Aa en Maas</td>\n",
       "      <td>1980-07-16</td>\n",
       "      <td>Ammonia, anhydrous</td>\n",
       "    </tr>\n",
       "  </tbody>\n",
       "</table>\n",
       "</div>"
      ],
      "text/plain": [
       "   Unnamed: 0                SampleID AquoCode        CAS  MeasuredValue  \\\n",
       "0           0  AoDE_AA_680:1980-07-16      NH3  7664-41-7       9.714286   \n",
       "1           1  AoDE_AA_570:1980-07-16      NH3  7664-41-7       9.714286   \n",
       "2           2  AoBIEZLO700:1980-07-16      NH3  7664-41-7      10.928571   \n",
       "3           3  AoZUIDWV650:1980-07-16      NH3  7664-41-7      18.214286   \n",
       "4           4  AoGOORLO900:1980-07-16      NH3  7664-41-7      15.785714   \n",
       "\n",
       "   Unit Locationcode AdditionalProperties LimitIndicator           X  \\\n",
       "0  ug/l  AoDE_AA_680                    N              -  160181.613   \n",
       "1  ug/l  AoDE_AA_570                    N              -  165695.515   \n",
       "2  ug/l  AoBIEZLO700                    N              -  163020.000   \n",
       "3  ug/l  AoZUIDWV650                    N              -  164962.593   \n",
       "4  ug/l  AoGOORLO900                    N              -  168096.796   \n",
       "\n",
       "            Y  DataSource  SampleDate            Stofnaam  \n",
       "0  406573.048  Aa en Maas  1980-07-16  Ammonia, anhydrous  \n",
       "1  403023.958  Aa en Maas  1980-07-16  Ammonia, anhydrous  \n",
       "2  402945.000  Aa en Maas  1980-07-16  Ammonia, anhydrous  \n",
       "3  402277.208  Aa en Maas  1980-07-16  Ammonia, anhydrous  \n",
       "4  399616.086  Aa en Maas  1980-07-16  Ammonia, anhydrous  "
      ]
     },
     "execution_count": 12,
     "metadata": {},
     "output_type": "execute_result"
    }
   ],
   "source": [
    "inputtafel1en3.head(5)"
   ]
  },
  {
   "cell_type": "markdown",
   "id": "f5c73d97-6550-47c2-a8bb-4dd16ab0f3ac",
   "metadata": {},
   "source": [
    "# Code\n",
    "\n",
    "Het hydrologisch model dient gebruikt te worden om de oorsprong van de stoffen te vinden. "
   ]
  },
  {
   "cell_type": "code",
   "execution_count": null,
   "id": "5091840a-2b71-4bd5-9514-27cb29f82cab",
   "metadata": {},
   "outputs": [],
   "source": []
  },
  {
   "cell_type": "markdown",
   "id": "e3e5f063-e13a-4742-91e9-674f7be4f298",
   "metadata": {},
   "source": [
    "# Output\n",
    "\n",
    "De output dient door te worden gegeven aan tafel 4. Tafel 4 heeft een notebook waarin de volgende output wordt verwacht. De ingevulde rij is een voorbeeld. "
   ]
  },
  {
   "cell_type": "code",
   "execution_count": 14,
   "id": "fae10cd0-767d-44ef-8554-8f4f6e30f824",
   "metadata": {},
   "outputs": [
    {
     "data": {
      "text/html": [
       "<div>\n",
       "<style scoped>\n",
       "    .dataframe tbody tr th:only-of-type {\n",
       "        vertical-align: middle;\n",
       "    }\n",
       "\n",
       "    .dataframe tbody tr th {\n",
       "        vertical-align: top;\n",
       "    }\n",
       "\n",
       "    .dataframe thead th {\n",
       "        text-align: right;\n",
       "    }\n",
       "</style>\n",
       "<table border=\"1\" class=\"dataframe\">\n",
       "  <thead>\n",
       "    <tr style=\"text-align: right;\">\n",
       "      <th></th>\n",
       "      <th>GPS-coordinaten</th>\n",
       "      <th>CAS</th>\n",
       "      <th>MeasuredValue</th>\n",
       "      <th>Unit</th>\n",
       "      <th>Stofnaam</th>\n",
       "    </tr>\n",
       "  </thead>\n",
       "  <tbody>\n",
       "    <tr>\n",
       "      <th>0</th>\n",
       "      <td>[52.0666016, 5.0776055]</td>\n",
       "      <td>012-345-6</td>\n",
       "      <td>100</td>\n",
       "      <td>ug/l</td>\n",
       "      <td>voorbeeldstof</td>\n",
       "    </tr>\n",
       "  </tbody>\n",
       "</table>\n",
       "</div>"
      ],
      "text/plain": [
       "           GPS-coordinaten        CAS  MeasuredValue  Unit       Stofnaam\n",
       "0  [52.0666016, 5.0776055]  012-345-6            100  ug/l  voorbeeldstof"
      ]
     },
     "execution_count": 14,
     "metadata": {},
     "output_type": "execute_result"
    }
   ],
   "source": [
    "d = {'GPS-coordinaten': ['[52.0666016, 5.0776055]'], 'CAS': ['012-345-6'], 'MeasuredValue': [100], 'Unit': ['ug/l'], 'Stofnaam': ['voorbeeldstof']}\n",
    "outputtafel1en3 = pd.DataFrame(data=d)\n",
    "outputtafel1en3"
   ]
  },
  {
   "cell_type": "markdown",
   "id": "8d9e59fa-3519-4dad-832e-c99442750b3c",
   "metadata": {},
   "source": [
    "Onderstaande regel code zet de tabel genaamd outputtafel1en3 van het blok hierboven over in een .csv bestand"
   ]
  },
  {
   "cell_type": "code",
   "execution_count": null,
   "id": "d41c2efa-58a3-4f7f-abbc-c24094faecf8",
   "metadata": {},
   "outputs": [],
   "source": [
    "df.to_csv('inputvoortafel4.csv')"
   ]
  }
 ],
 "metadata": {
  "kernelspec": {
   "display_name": "Python 3 (ipykernel)",
   "language": "python",
   "name": "python3"
  },
  "language_info": {
   "codemirror_mode": {
    "name": "ipython",
    "version": 3
   },
   "file_extension": ".py",
   "mimetype": "text/x-python",
   "name": "python",
   "nbconvert_exporter": "python",
   "pygments_lexer": "ipython3",
   "version": "3.12.4"
  }
 },
 "nbformat": 4,
 "nbformat_minor": 5
}
