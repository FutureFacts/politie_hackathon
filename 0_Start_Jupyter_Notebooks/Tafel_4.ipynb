{
 "cells": [
  {
   "cell_type": "markdown",
   "id": "8ab45ef7-ac6b-4676-b2d8-0a381622fb2d",
   "metadata": {},
   "source": [
    "# Start\n",
    "\n",
    "Beste deelnemer van tafel 4,\n",
    "\n",
    "Dit Jupyter notebook heeft alvast wat skeletoncode klaarstaan om te gebruiken. Dit notebook is vooral om te helpen met opstarten. Je hoeft deze uiteraard niet te gebruiken\n"
   ]
  },
  {
   "cell_type": "code",
   "execution_count": 3,
   "id": "676dcf18-1c48-4d82-899c-80276bec26e4",
   "metadata": {},
   "outputs": [],
   "source": [
    "import pandas as pd\n",
    "import os"
   ]
  },
  {
   "cell_type": "markdown",
   "id": "0068bf54-6f19-4e23-a38f-1f3f5c2a0f60",
   "metadata": {},
   "source": [
    "# Input\n",
    "\n",
    "Jullie zullen input ontvangen van tafel 1 en 3. Zij hebben in hun Jupyter Notebook een suggestie staan van hoe ze de data aan jullie aanleveren. Uiteraard zijn jullie vrij om een andere manier van output af te spreken met tafels 1 en 3.  \n",
    "\n",
    "Onderstaand is een voorbeeld van hoe tafels 1 en 3 de data aanleveren."
   ]
  },
  {
   "cell_type": "code",
   "execution_count": 4,
   "id": "4dce48f2-a2c8-4050-bd7e-9669257115f9",
   "metadata": {},
   "outputs": [
    {
     "data": {
      "text/html": [
       "<div>\n",
       "<style scoped>\n",
       "    .dataframe tbody tr th:only-of-type {\n",
       "        vertical-align: middle;\n",
       "    }\n",
       "\n",
       "    .dataframe tbody tr th {\n",
       "        vertical-align: top;\n",
       "    }\n",
       "\n",
       "    .dataframe thead th {\n",
       "        text-align: right;\n",
       "    }\n",
       "</style>\n",
       "<table border=\"1\" class=\"dataframe\">\n",
       "  <thead>\n",
       "    <tr style=\"text-align: right;\">\n",
       "      <th></th>\n",
       "      <th>GPS-coordinaten</th>\n",
       "      <th>CAS</th>\n",
       "      <th>MeasuredValue</th>\n",
       "      <th>Unit</th>\n",
       "      <th>Stofnaam</th>\n",
       "    </tr>\n",
       "  </thead>\n",
       "  <tbody>\n",
       "    <tr>\n",
       "      <th>0</th>\n",
       "      <td>[52.0666016, 5.0776055]</td>\n",
       "      <td>012-345-6</td>\n",
       "      <td>100</td>\n",
       "      <td>ug/l</td>\n",
       "      <td>voorbeeldstof</td>\n",
       "    </tr>\n",
       "  </tbody>\n",
       "</table>\n",
       "</div>"
      ],
      "text/plain": [
       "           GPS-coordinaten        CAS  MeasuredValue  Unit       Stofnaam\n",
       "0  [52.0666016, 5.0776055]  012-345-6            100  ug/l  voorbeeldstof"
      ]
     },
     "execution_count": 4,
     "metadata": {},
     "output_type": "execute_result"
    }
   ],
   "source": [
    "d = {'GPS-coordinaten': ['[52.0666016, 5.0776055]'], 'CAS': ['012-345-6'], 'MeasuredValue': [100], 'Unit': ['ug/l'], 'Stofnaam': ['voorbeeldstof']}\n",
    "outputtafel1en3 = pd.DataFrame(data=d)\n",
    "outputtafel1en3"
   ]
  },
  {
   "cell_type": "markdown",
   "id": "8bfdacde-a431-4a53-ae08-fa8b935a9b5a",
   "metadata": {},
   "source": [
    "Hun dataframe zal als csv naar jullie kunnen worden geleverd. Onderstaande code is hoe je een csv kan inlezen. Bij het rode deel in path dient de locatie en naam van het bestand ingevuld te worden."
   ]
  },
  {
   "cell_type": "code",
   "execution_count": 6,
   "id": "10abbd0f-7fdd-4998-a4eb-cfa74febdb16",
   "metadata": {},
   "outputs": [],
   "source": [
    "parent = os.path.dirname(os.getcwd())\n",
    "\n",
    "path = (parent + '/inputvoortafel4.csv')\n",
    "inputtafel4 = pd.read_csv(path, sep=',')"
   ]
  },
  {
   "cell_type": "markdown",
   "id": "5af32719-5f66-4f17-84d2-8b2c906f3241",
   "metadata": {},
   "source": [
    "# Code"
   ]
  },
  {
   "cell_type": "code",
   "execution_count": null,
   "id": "0bdeae39-d646-4ec5-8164-eac8595dfa18",
   "metadata": {},
   "outputs": [],
   "source": []
  },
  {
   "cell_type": "markdown",
   "id": "103e8d7c-1479-4ff6-8cb2-bf41a377797f",
   "metadata": {},
   "source": [
    "# Output\n",
    "\n",
    "Gewenst zou zijn een lijst van de Top X van grootste vervuilers. Met mogelijk een percentage van de uitstoot en tags over welke stoffen er worden uitgestoten. Een voorbeeld van hoe output er uit zou kunnen zien is het volgende: "
   ]
  },
  {
   "cell_type": "code",
   "execution_count": 8,
   "id": "33601dba-3db6-4d76-ae2e-4e3055d91038",
   "metadata": {},
   "outputs": [
    {
     "data": {
      "text/html": [
       "<div>\n",
       "<style scoped>\n",
       "    .dataframe tbody tr th:only-of-type {\n",
       "        vertical-align: middle;\n",
       "    }\n",
       "\n",
       "    .dataframe tbody tr th {\n",
       "        vertical-align: top;\n",
       "    }\n",
       "\n",
       "    .dataframe thead th {\n",
       "        text-align: right;\n",
       "    }\n",
       "</style>\n",
       "<table border=\"1\" class=\"dataframe\">\n",
       "  <thead>\n",
       "    <tr style=\"text-align: right;\">\n",
       "      <th></th>\n",
       "      <th>Naam</th>\n",
       "      <th>Percentage uitstoot</th>\n",
       "      <th>Tags</th>\n",
       "    </tr>\n",
       "  </thead>\n",
       "  <tbody>\n",
       "    <tr>\n",
       "      <th>0</th>\n",
       "      <td>Voorbeeldvervuiler</td>\n",
       "      <td>10%</td>\n",
       "      <td>CO2, Uranium</td>\n",
       "    </tr>\n",
       "  </tbody>\n",
       "</table>\n",
       "</div>"
      ],
      "text/plain": [
       "                 Naam Percentage uitstoot          Tags\n",
       "0  Voorbeeldvervuiler                 10%  CO2, Uranium"
      ]
     },
     "execution_count": 8,
     "metadata": {},
     "output_type": "execute_result"
    }
   ],
   "source": [
    "d = {'Naam': ['Voorbeeldvervuiler'], 'Percentage uitstoot': ['10%'], 'Tags': ['CO2, Uranium']}\n",
    "outputtafel4 = pd.DataFrame(data=d)\n",
    "outputtafel4"
   ]
  },
  {
   "cell_type": "markdown",
   "id": "705b67a9-6472-4bc8-8afe-f156b0f8ac63",
   "metadata": {},
   "source": [
    "Onderstaande code is hoe je een dataframe zoals het voorbeeld outputtafel4 om kan zetten naar csv"
   ]
  },
  {
   "cell_type": "code",
   "execution_count": 9,
   "id": "d6b37c5b-21a0-4ef8-a885-6ba88948936a",
   "metadata": {},
   "outputs": [],
   "source": [
    "outputtafel4.to_csv('outputtafel4.csv')"
   ]
  },
  {
   "cell_type": "code",
   "execution_count": null,
   "id": "0e968426-11b9-4988-a152-0686885fa5a3",
   "metadata": {},
   "outputs": [],
   "source": []
  }
 ],
 "metadata": {
  "kernelspec": {
   "display_name": "Python 3 (ipykernel)",
   "language": "python",
   "name": "python3"
  },
  "language_info": {
   "codemirror_mode": {
    "name": "ipython",
    "version": 3
   },
   "file_extension": ".py",
   "mimetype": "text/x-python",
   "name": "python",
   "nbconvert_exporter": "python",
   "pygments_lexer": "ipython3",
   "version": "3.12.4"
  }
 },
 "nbformat": 4,
 "nbformat_minor": 5
}
