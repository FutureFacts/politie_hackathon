{
 "cells": [
  {
   "cell_type": "markdown",
   "id": "b4c6603e-bfed-4625-b898-2d83b033eb78",
   "metadata": {},
   "source": [
    "# Start\n",
    "\n",
    "Beste deelnemer van tafel 7,\n",
    "\n",
    "Dit Jupyter notebook heeft alvast wat data klaarstaan om te gebruiken. Dit notebook is vooral om te helpen met opstarten. Je hoeft deze uiteraard niet te gebruiken"
   ]
  },
  {
   "cell_type": "code",
   "execution_count": 2,
   "id": "ef51039f-1a59-4bf4-b463-d7931dc5f536",
   "metadata": {},
   "outputs": [],
   "source": [
    "import pandas as pd\n",
    "import os"
   ]
  },
  {
   "cell_type": "markdown",
   "id": "aabfa025-5b94-44d4-8a60-473e0f60ac67",
   "metadata": {},
   "source": [
    "# Input\n",
    "\n",
    "Het blok hieronder leest de RIVM_dataset inclusief de stofnaam in en zet het in een pandas dataframe. "
   ]
  },
  {
   "cell_type": "code",
   "execution_count": 3,
   "id": "4271d466-bbfe-4ac7-89a5-d603932e4afa",
   "metadata": {},
   "outputs": [],
   "source": [
    "parent = os.path.dirname(os.getcwd())\n",
    "\n",
    "path = (parent + '/RIVM_dataset/AllData_IOD_Stofnaam1.csv')\n",
    "inputtafel7 = pd.read_csv(path, sep=',')"
   ]
  },
  {
   "cell_type": "markdown",
   "id": "12acf813-58b9-404f-93a5-a975bdd8288e",
   "metadata": {},
   "source": [
    "Hieronder is te zien hoe de data er uit ziet. De volgende kolommen zitten er in: \n",
    "- Kolom 1: een lang nummer unieke regelcode \n",
    "- Sample ID: de naam die de data-eigenaar aan het monster geeft  \n",
    "- Aquocode: de naam van de parameter die het Infor Huis Water gebruikt\n",
    "- CAS: Chemical Abstracts Services – de naam van de parameter als CAS-nummer \n",
    "- MeasuredValue: gemeten waarde van de parameter \n",
    "- Unit: eenheid van de gemeten waarde \n",
    "- Locationcode: unieke naam die de data-eigenaar aan de locatie van het monster gegeven heeft \n",
    "- AdditionalProperties: beschrijving van de werkwijzen van monsterbehandeling, conform bepaalde coderingen \n",
    "- LimitIndicator: duidt aan of een waarde kliner is dan de detectielimiet, enz, \n",
    "- X=locatiecodering \n",
    "- Y=locatiecodering \n",
    "- Datasource: data verkregen van…. \n",
    "- SampleDate: Datum van monstername \n",
    "- Stofnaam: Naam van de stof gebaseerd op het CAS nummer "
   ]
  },
  {
   "cell_type": "code",
   "execution_count": 4,
   "id": "857c528c-e111-4339-b13c-1561f8ac5f13",
   "metadata": {},
   "outputs": [
    {
     "data": {
      "text/html": [
       "<div>\n",
       "<style scoped>\n",
       "    .dataframe tbody tr th:only-of-type {\n",
       "        vertical-align: middle;\n",
       "    }\n",
       "\n",
       "    .dataframe tbody tr th {\n",
       "        vertical-align: top;\n",
       "    }\n",
       "\n",
       "    .dataframe thead th {\n",
       "        text-align: right;\n",
       "    }\n",
       "</style>\n",
       "<table border=\"1\" class=\"dataframe\">\n",
       "  <thead>\n",
       "    <tr style=\"text-align: right;\">\n",
       "      <th></th>\n",
       "      <th>Unnamed: 0</th>\n",
       "      <th>SampleID</th>\n",
       "      <th>AquoCode</th>\n",
       "      <th>CAS</th>\n",
       "      <th>MeasuredValue</th>\n",
       "      <th>Unit</th>\n",
       "      <th>Locationcode</th>\n",
       "      <th>AdditionalProperties</th>\n",
       "      <th>LimitIndicator</th>\n",
       "      <th>X</th>\n",
       "      <th>Y</th>\n",
       "      <th>DataSource</th>\n",
       "      <th>SampleDate</th>\n",
       "      <th>Stofnaam</th>\n",
       "    </tr>\n",
       "  </thead>\n",
       "  <tbody>\n",
       "    <tr>\n",
       "      <th>0</th>\n",
       "      <td>0</td>\n",
       "      <td>AoDE_AA_680:1980-07-16</td>\n",
       "      <td>NH3</td>\n",
       "      <td>7664-41-7</td>\n",
       "      <td>9.714286</td>\n",
       "      <td>ug/l</td>\n",
       "      <td>AoDE_AA_680</td>\n",
       "      <td>N</td>\n",
       "      <td>-</td>\n",
       "      <td>160181.613</td>\n",
       "      <td>406573.048</td>\n",
       "      <td>Aa en Maas</td>\n",
       "      <td>1980-07-16</td>\n",
       "      <td>Ammonia, anhydrous</td>\n",
       "    </tr>\n",
       "    <tr>\n",
       "      <th>1</th>\n",
       "      <td>1</td>\n",
       "      <td>AoDE_AA_570:1980-07-16</td>\n",
       "      <td>NH3</td>\n",
       "      <td>7664-41-7</td>\n",
       "      <td>9.714286</td>\n",
       "      <td>ug/l</td>\n",
       "      <td>AoDE_AA_570</td>\n",
       "      <td>N</td>\n",
       "      <td>-</td>\n",
       "      <td>165695.515</td>\n",
       "      <td>403023.958</td>\n",
       "      <td>Aa en Maas</td>\n",
       "      <td>1980-07-16</td>\n",
       "      <td>Ammonia, anhydrous</td>\n",
       "    </tr>\n",
       "    <tr>\n",
       "      <th>2</th>\n",
       "      <td>2</td>\n",
       "      <td>AoBIEZLO700:1980-07-16</td>\n",
       "      <td>NH3</td>\n",
       "      <td>7664-41-7</td>\n",
       "      <td>10.928571</td>\n",
       "      <td>ug/l</td>\n",
       "      <td>AoBIEZLO700</td>\n",
       "      <td>N</td>\n",
       "      <td>-</td>\n",
       "      <td>163020.000</td>\n",
       "      <td>402945.000</td>\n",
       "      <td>Aa en Maas</td>\n",
       "      <td>1980-07-16</td>\n",
       "      <td>Ammonia, anhydrous</td>\n",
       "    </tr>\n",
       "    <tr>\n",
       "      <th>3</th>\n",
       "      <td>3</td>\n",
       "      <td>AoZUIDWV650:1980-07-16</td>\n",
       "      <td>NH3</td>\n",
       "      <td>7664-41-7</td>\n",
       "      <td>18.214286</td>\n",
       "      <td>ug/l</td>\n",
       "      <td>AoZUIDWV650</td>\n",
       "      <td>N</td>\n",
       "      <td>-</td>\n",
       "      <td>164962.593</td>\n",
       "      <td>402277.208</td>\n",
       "      <td>Aa en Maas</td>\n",
       "      <td>1980-07-16</td>\n",
       "      <td>Ammonia, anhydrous</td>\n",
       "    </tr>\n",
       "    <tr>\n",
       "      <th>4</th>\n",
       "      <td>4</td>\n",
       "      <td>AoGOORLO900:1980-07-16</td>\n",
       "      <td>NH3</td>\n",
       "      <td>7664-41-7</td>\n",
       "      <td>15.785714</td>\n",
       "      <td>ug/l</td>\n",
       "      <td>AoGOORLO900</td>\n",
       "      <td>N</td>\n",
       "      <td>-</td>\n",
       "      <td>168096.796</td>\n",
       "      <td>399616.086</td>\n",
       "      <td>Aa en Maas</td>\n",
       "      <td>1980-07-16</td>\n",
       "      <td>Ammonia, anhydrous</td>\n",
       "    </tr>\n",
       "  </tbody>\n",
       "</table>\n",
       "</div>"
      ],
      "text/plain": [
       "   Unnamed: 0                SampleID AquoCode        CAS  MeasuredValue  \\\n",
       "0           0  AoDE_AA_680:1980-07-16      NH3  7664-41-7       9.714286   \n",
       "1           1  AoDE_AA_570:1980-07-16      NH3  7664-41-7       9.714286   \n",
       "2           2  AoBIEZLO700:1980-07-16      NH3  7664-41-7      10.928571   \n",
       "3           3  AoZUIDWV650:1980-07-16      NH3  7664-41-7      18.214286   \n",
       "4           4  AoGOORLO900:1980-07-16      NH3  7664-41-7      15.785714   \n",
       "\n",
       "   Unit Locationcode AdditionalProperties LimitIndicator           X  \\\n",
       "0  ug/l  AoDE_AA_680                    N              -  160181.613   \n",
       "1  ug/l  AoDE_AA_570                    N              -  165695.515   \n",
       "2  ug/l  AoBIEZLO700                    N              -  163020.000   \n",
       "3  ug/l  AoZUIDWV650                    N              -  164962.593   \n",
       "4  ug/l  AoGOORLO900                    N              -  168096.796   \n",
       "\n",
       "            Y  DataSource  SampleDate            Stofnaam  \n",
       "0  406573.048  Aa en Maas  1980-07-16  Ammonia, anhydrous  \n",
       "1  403023.958  Aa en Maas  1980-07-16  Ammonia, anhydrous  \n",
       "2  402945.000  Aa en Maas  1980-07-16  Ammonia, anhydrous  \n",
       "3  402277.208  Aa en Maas  1980-07-16  Ammonia, anhydrous  \n",
       "4  399616.086  Aa en Maas  1980-07-16  Ammonia, anhydrous  "
      ]
     },
     "execution_count": 4,
     "metadata": {},
     "output_type": "execute_result"
    }
   ],
   "source": [
    "inputtafel7.head(5)"
   ]
  },
  {
   "cell_type": "markdown",
   "id": "aba57112-c661-4297-ac1a-eaaa4cdb583e",
   "metadata": {},
   "source": [
    "# Code"
   ]
  },
  {
   "cell_type": "code",
   "execution_count": null,
   "id": "17441ff9-5ed9-41cc-8e01-b6f5a1900d0e",
   "metadata": {},
   "outputs": [],
   "source": []
  },
  {
   "cell_type": "markdown",
   "id": "6ef013b5-736e-4185-b803-1f60165755f9",
   "metadata": {},
   "source": [
    "# Output\n",
    "\n",
    "Onderstaande regel code zet een dataframe zoals inputtafel7 hierboven om naar een csv bestand"
   ]
  },
  {
   "cell_type": "code",
   "execution_count": null,
   "id": "d63fde27-a4b9-480a-86c0-a0781c1179d0",
   "metadata": {},
   "outputs": [],
   "source": [
    "data.to_csv('outputtafel7.csv')"
   ]
  }
 ],
 "metadata": {
  "kernelspec": {
   "display_name": "Python 3 (ipykernel)",
   "language": "python",
   "name": "python3"
  },
  "language_info": {
   "codemirror_mode": {
    "name": "ipython",
    "version": 3
   },
   "file_extension": ".py",
   "mimetype": "text/x-python",
   "name": "python",
   "nbconvert_exporter": "python",
   "pygments_lexer": "ipython3",
   "version": "3.12.4"
  }
 },
 "nbformat": 4,
 "nbformat_minor": 5
}
